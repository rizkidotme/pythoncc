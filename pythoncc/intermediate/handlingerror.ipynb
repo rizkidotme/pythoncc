{
 "cells": [
  {
   "cell_type": "code",
   "execution_count": 3,
   "metadata": {},
   "outputs": [
    {
     "name": "stdout",
     "output_type": "stream",
     "text": [
      "Error:  division by zero\n"
     ]
    }
   ],
   "source": [
    "try: \n",
    "    5/0\n",
    "except ZeroDivisionError as e:\n",
    "    print(\"Error: \", e)"
   ]
  },
  {
   "cell_type": "code",
   "execution_count": 14,
   "metadata": {},
   "outputs": [
    {
     "name": "stdout",
     "output_type": "stream",
     "text": [
      "give me two number and I'll divide it!\n",
      "enter \"q\" to quit\n",
      "you can't devided by zero\n"
     ]
    }
   ],
   "source": [
    "print(\"give me two number and I'll divide it!\")\n",
    "print(\"enter \\\"q\\\" to quit\")\n",
    "\n",
    "while True: \n",
    "    first_number = input(\"first number is:\")\n",
    "    if first_number == 'q': \n",
    "        break \n",
    "\n",
    "    second_number = input(\"second number is:\")\n",
    "    if second_number == 'q': \n",
    "        break\n",
    "    try: \n",
    "        ans = int(first_number) / int(second_number)\n",
    "    except ZeroDivisionError: \n",
    "        print(\"you can't devided by zero\")\n",
    "    else: \n",
    "        print(ans)"
   ]
  },
  {
   "cell_type": "code",
   "execution_count": null,
   "metadata": {},
   "outputs": [],
   "source": [
    "from pathlib import Path \n",
    "path = Path(input())\n",
    "try: \n",
    "    a = path.read_text(encoding='utf-8')\n",
    "    print(a)\n",
    "except FileNotFoundError: \n",
    "    print(f\"{path} yang kamu cari tidak ada\")\n",
    "\n"
   ]
  },
  {
   "cell_type": "code",
   "execution_count": 23,
   "metadata": {},
   "outputs": [
    {
     "name": "stdout",
     "output_type": "stream",
     "text": [
      "ada 20005 baris pada file ini\n"
     ]
    }
   ],
   "source": [
    "content = a.split(\"\\n\") \n",
    "print(f\"ada {len(content)} baris pada file ini\")"
   ]
  }
 ],
 "metadata": {
  "kernelspec": {
   "display_name": "Python 3.10.4 64-bit",
   "language": "python",
   "name": "python3"
  },
  "language_info": {
   "codemirror_mode": {
    "name": "ipython",
    "version": 3
   },
   "file_extension": ".py",
   "mimetype": "text/x-python",
   "name": "python",
   "nbconvert_exporter": "python",
   "pygments_lexer": "ipython3",
   "version": "3.10.4"
  },
  "orig_nbformat": 4,
  "vscode": {
   "interpreter": {
    "hash": "3ad933181bd8a04b432d3370b9dc3b0662ad032c4dfaa4e4f1596c548f763858"
   }
  }
 },
 "nbformat": 4,
 "nbformat_minor": 2
}
