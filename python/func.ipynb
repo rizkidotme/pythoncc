{
 "cells": [
  {
   "cell_type": "code",
   "execution_count": 6,
   "metadata": {},
   "outputs": [
    {
     "name": "stdout",
     "output_type": "stream",
     "text": [
      "aku suka nasi\n"
     ]
    }
   ],
   "source": [
    "def func(ikan, makan, nasi=\"nasi\"):\n",
    "    print(f\"{ikan} {makan} {nasi}\")\n",
    "func(makan=\"suka\", ikan='aku')"
   ]
  },
  {
   "cell_type": "code",
   "execution_count": 8,
   "metadata": {},
   "outputs": [
    {
     "data": {
      "text/plain": [
       "'Muhammad Arif Rizkillah'"
      ]
     },
     "execution_count": 8,
     "metadata": {},
     "output_type": "execute_result"
    }
   ],
   "source": [
    "from webbrowser import get\n",
    "\n",
    "\n",
    "def get_fomatted_name(first, last, middle=''): \n",
    "    if middle: \n",
    "        full_name = f\"{first} {middle} {last}\"\n",
    "    else: \n",
    "        full_name = f\"{first} {last}\"\n",
    "    return full_name.title()\n",
    "get_fomatted_name('muhammad', 'rizkillah', 'arif')"
   ]
  },
  {
   "cell_type": "code",
   "execution_count": 11,
   "metadata": {},
   "outputs": [
    {
     "name": "stdout",
     "output_type": "stream",
     "text": [
      "{'fist': 'jimi', 'last': 'hendrix'}\n"
     ]
    }
   ],
   "source": [
    "def build_person(first_name, last_name, age= None):\n",
    "    person = {'fist': first_name, 'last': last_name}\n",
    "    if age: \n",
    "        person['age'] = age \n",
    "    return person \n",
    "\n",
    "musician = build_person('jimi', 'hendrix')\n",
    "print(musician)"
   ]
  },
  {
   "cell_type": "code",
   "execution_count": null,
   "metadata": {},
   "outputs": [],
   "source": []
  },
  {
   "cell_type": "code",
   "execution_count": 13,
   "metadata": {},
   "outputs": [
    {
     "name": "stdout",
     "output_type": "stream",
     "text": [
      "('nanas', 'jamur', 'keju', 'dll')\n"
     ]
    }
   ],
   "source": [
    "def pizza_topping(*topping): \n",
    "    print(topping)\n",
    "pizza_topping(\"nanas\", 'jamur','keju', 'dll')"
   ]
  },
  {
   "cell_type": "code",
   "execution_count": 15,
   "metadata": {},
   "outputs": [
    {
     "name": "stdout",
     "output_type": "stream",
     "text": [
      "\n",
      "Making a pizza with following topping:\n",
      "-nanas\n",
      "-jamur\n",
      "-keju\n",
      "-dll\n"
     ]
    }
   ],
   "source": [
    "def make_pizza(*topinng): \n",
    "    print('\\nMaking a pizza with following topping:')\n",
    "    for top in topinng: \n",
    "        print(f\"-{top}\")\n",
    "make_pizza(\"nanas\", 'jamur','keju', 'dll')"
   ]
  },
  {
   "cell_type": "code",
   "execution_count": 20,
   "metadata": {},
   "outputs": [
    {
     "data": {
      "text/plain": [
       "\"you are a bout to order pizza with medium and ('nanas', 'jamur', 'keju', 'dll') topping\""
      ]
     },
     "execution_count": 20,
     "metadata": {},
     "output_type": "execute_result"
    }
   ],
   "source": [
    "def make_pizza1(size, *topping):\n",
    "    a = f\"you are a bout to order pizza with {size} and {topping} topping\"\n",
    "    return a \n",
    "\n",
    "make_pizza1(\"medium\" ,\"nanas\", 'jamur','keju', 'dll')"
   ]
  },
  {
   "cell_type": "markdown",
   "metadata": {},
   "source": [
    "## Using Arbitrary Keyword Arguments"
   ]
  },
  {
   "cell_type": "code",
   "execution_count": 25,
   "metadata": {},
   "outputs": [
    {
     "name": "stdout",
     "output_type": "stream",
     "text": [
      "{'first_name': 'albert', 'last_name': 'einstein'}\n"
     ]
    }
   ],
   "source": [
    "from dataclasses import field\n",
    "\n",
    "\n",
    "def build_profile(first, last, **info):\n",
    "    user_info = {}\n",
    "    user_info['first_name'] = first\n",
    "    user_info['last_name'] = last\n",
    "    return user_info\n",
    "\n",
    "user_profile = build_profile('albert', 'einstein', \n",
    "location = \"princtone\", \n",
    "field = 'physics')\n",
    "print(user_profile)"
   ]
  },
  {
   "cell_type": "code",
   "execution_count": 5,
   "metadata": {},
   "outputs": [
    {
     "name": "stdout",
     "output_type": "stream",
     "text": [
      "you are about to order medium, and tppoing:\n",
      "-nanas\n",
      "-keju\n",
      "-jmaur\n",
      "-kentang\n"
     ]
    }
   ],
   "source": [
    "from pizza import * \n",
    "make_pizza('medium', 'nanas', 'keju', 'jmaur', 'kentang')"
   ]
  }
 ],
 "metadata": {
  "kernelspec": {
   "display_name": "Python 3.10.4 64-bit",
   "language": "python",
   "name": "python3"
  },
  "language_info": {
   "codemirror_mode": {
    "name": "ipython",
    "version": 3
   },
   "file_extension": ".py",
   "mimetype": "text/x-python",
   "name": "python",
   "nbconvert_exporter": "python",
   "pygments_lexer": "ipython3",
   "version": "3.10.4"
  },
  "orig_nbformat": 4,
  "vscode": {
   "interpreter": {
    "hash": "3ad933181bd8a04b432d3370b9dc3b0662ad032c4dfaa4e4f1596c548f763858"
   }
  }
 },
 "nbformat": 4,
 "nbformat_minor": 2
}
