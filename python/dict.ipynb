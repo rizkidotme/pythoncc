{
 "cells": [
  {
   "cell_type": "code",
   "execution_count": 3,
   "metadata": {},
   "outputs": [
    {
     "data": {
      "text/plain": [
       "5"
      ]
     },
     "execution_count": 3,
     "metadata": {},
     "output_type": "execute_result"
    }
   ],
   "source": [
    "alien_0 = { \"color\": \"green\", 'point': 5}\n",
    "alien_0['point']"
   ]
  },
  {
   "cell_type": "code",
   "execution_count": 4,
   "metadata": {},
   "outputs": [
    {
     "data": {
      "text/plain": [
       "{'color': 'green', 'point': 5, 'x_position': 0, 'y_position': 25}"
      ]
     },
     "execution_count": 4,
     "metadata": {},
     "output_type": "execute_result"
    }
   ],
   "source": [
    "alien_0[\"x_position\"] = 0\n",
    "alien_0[\"y_position\"] = 25\n",
    "alien_0"
   ]
  },
  {
   "cell_type": "code",
   "execution_count": 6,
   "metadata": {},
   "outputs": [
    {
     "data": {
      "text/plain": [
       "{'color': 'green',\n",
       " 'point': 5,\n",
       " 'x_position': 19,\n",
       " 'y_position': 25,\n",
       " 'speed': 'medium'}"
      ]
     },
     "execution_count": 6,
     "metadata": {},
     "output_type": "execute_result"
    }
   ],
   "source": [
    "alien_0[\"x_position\"] = 19\n",
    "alien_0[\"speed\"] = \"medium\"\n",
    "alien_0"
   ]
  },
  {
   "cell_type": "code",
   "execution_count": 10,
   "metadata": {},
   "outputs": [
    {
     "name": "stdout",
     "output_type": "stream",
     "text": [
      "alien initial position: 0, 25\n"
     ]
    }
   ],
   "source": [
    "alien_1 = { \"x_position\": 0, \"y_position\": 25, \"speed\": \"medium\" }\n",
    "print(f\"alien initial position: {alien_1['x_position']}, {alien_1['y_position']}\")"
   ]
  },
  {
   "cell_type": "code",
   "execution_count": 3,
   "metadata": {},
   "outputs": [
    {
     "name": "stdout",
     "output_type": "stream",
     "text": [
      "New position: 3\n"
     ]
    }
   ],
   "source": [
    "alien_0 = {'x_position': 0, 'y_position': 25, 'speed': 'fast'}\n",
    "\n",
    "if alien_0['speed'] == 'slow':\n",
    "    x_increment = 1\n",
    "elif alien_0['speed'] == 'medium':\n",
    "    x_increment = 2\n",
    "else:\n",
    "    x_increment = 3\n",
    "# The new position is the old position plus the increment.\n",
    "alien_0['x_position'] = alien_0['x_position'] + x_increment\n",
    "print(f\"New position: {alien_0['x_position']}\")"
   ]
  },
  {
   "cell_type": "code",
   "execution_count": 5,
   "metadata": {},
   "outputs": [],
   "source": [
    "del alien_0[\"y_position\"]"
   ]
  },
  {
   "cell_type": "code",
   "execution_count": 8,
   "metadata": {},
   "outputs": [
    {
     "name": "stdout",
     "output_type": "stream",
     "text": [
      "5\n"
     ]
    }
   ],
   "source": [
    "\n",
    "\n",
    "alien_0 = {'color': 'green', 'speed': 'slow', 'point': 5}\n",
    "point_value = alien_0.get('point', \"no point value assignment\")\n",
    "print(point_value)"
   ]
  },
  {
   "cell_type": "code",
   "execution_count": 12,
   "metadata": {},
   "outputs": [
    {
     "name": "stdout",
     "output_type": "stream",
     "text": [
      "\n",
      "key: username\n",
      "value:efermi\n",
      "\n",
      "key: first\n",
      "value:enrico\n",
      "\n",
      "key: last\n",
      "value:fermi\n"
     ]
    }
   ],
   "source": [
    "user_0 = { \n",
    "    'username': 'efermi', \n",
    "    'first': 'enrico', \n",
    "    'last': 'fermi'\n",
    "}\n",
    "for key, value in user_0.items(): \n",
    "    print(f\"\\nkey: {key}\")\n",
    "    print(f\"value:{value}\")"
   ]
  },
  {
   "cell_type": "code",
   "execution_count": 13,
   "metadata": {},
   "outputs": [
    {
     "name": "stdout",
     "output_type": "stream",
     "text": [
      "Atif favorite language is Rust\n",
      "Rizki favorite language is Wolfram\n",
      "Dzaki favorite language is Python\n",
      "Ryan favorite language is Typescript\n"
     ]
    }
   ],
   "source": [
    "fav_lang = { \n",
    "    'atif': 'rust', \n",
    "    'rizki': 'wolfram',\n",
    "    'dzaki': 'python', \n",
    "    'ryan': 'typescript' \n",
    "}\n",
    "for k,v in fav_lang.items(): \n",
    "    print(f\"{k.title()} favorite language is {v.title()}\")"
   ]
  },
  {
   "cell_type": "code",
   "execution_count": null,
   "metadata": {},
   "outputs": [],
   "source": [
    "kawan = [\"dzaki\", 'ryan']\n",
    "for name in fav_lang.keys(): \n",
    "    print(f\"hai {name}\")\n",
    "    if name in kawan: \n",
    "        lang = fav_lang[name]\n",
    "        print(f\"aku sangka kamu suka belajar {lang}\")"
   ]
  },
  {
   "cell_type": "code",
   "execution_count": 23,
   "metadata": {},
   "outputs": [
    {
     "name": "stdout",
     "output_type": "stream",
     "text": [
      "thanks for take the survey Atif\n",
      "thanks for take the survey Dzaki\n",
      "thanks for take the survey Rizki\n",
      "thanks for take the survey Ryan\n"
     ]
    }
   ],
   "source": [
    "for name in sorted(fav_lang.keys()): \n",
    "    print(f\"thanks for take the survey {name.title()}\")"
   ]
  },
  {
   "cell_type": "code",
   "execution_count": 25,
   "metadata": {},
   "outputs": [
    {
     "name": "stdout",
     "output_type": "stream",
     "text": [
      "{'color': 'green', 'points': 5}\n",
      "{'color': 'yellow', 'points': 10}\n",
      "{'color': 'red', 'points': 15}\n"
     ]
    }
   ],
   "source": [
    "alien_0 = {'color': 'green', 'points': 5}\n",
    "alien_1 = {'color': 'yellow', 'points': 10}\n",
    "alien_2 = {'color': 'red', 'points': 15}\n",
    "aliens = [alien_0, alien_1, alien_2]\n",
    "for alien in aliens: \n",
    "    print(alien)\n"
   ]
  },
  {
   "cell_type": "code",
   "execution_count": null,
   "metadata": {},
   "outputs": [],
   "source": [
    "from id import simm \n",
    "simm[0:10]"
   ]
  },
  {
   "cell_type": "code",
   "execution_count": 30,
   "metadata": {},
   "outputs": [
    {
     "name": "stdout",
     "output_type": "stream",
     "text": [
      "apakah benar kamu pesan pizza dengan ketebalan mediumdengan topping berikut ini:\n",
      "\t Tomatoes\n",
      "\t Cheese\n",
      "\t Popcorn\n"
     ]
    }
   ],
   "source": [
    "pizza = {\n",
    "    \"thick\": \"medium\", \n",
    "    \"topping\": [\n",
    "        'tomatoes', \n",
    "        'cheese', \n",
    "        'popcorn'\n",
    "    ]\n",
    "}\n",
    "\n",
    "# summaries \n",
    "\n",
    "print(f\"apakah benar kamu pesan pizza dengan ketebalan {pizza['thick']}\"\n",
    "        \"dengan topping berikut ini:\")\n",
    "for i in pizza['topping']: \n",
    "    print(f\"\\t {i.title()}\")"
   ]
  },
  {
   "cell_type": "code",
   "execution_count": 33,
   "metadata": {},
   "outputs": [
    {
     "name": "stdout",
     "output_type": "stream",
     "text": [
      "hey jen people say to me that you mastering:\n",
      "python\n",
      "rust\n",
      "hey sarah people say to me that you mastering:\n",
      "c\n",
      "hey edward people say to me that you mastering:\n",
      "rust\n",
      "go\n",
      "hey phil people say to me that you mastering:\n",
      "python\n",
      "haskell\n"
     ]
    }
   ],
   "source": [
    "favorite_languages = {\n",
    " 'jen': ['python', 'rust'],\n",
    " 'sarah': ['c'],\n",
    " 'edward': ['rust', 'go'],\n",
    " 'phil': ['python', 'haskell'],\n",
    " }\n",
    "\n",
    "for name, langs in favorite_languages.items():\n",
    "    print(f\"hey {name} people say to me that you mastering:\")\n",
    "    for i in langs: \n",
    "        print(i)"
   ]
  },
  {
   "cell_type": "code",
   "execution_count": 7,
   "metadata": {},
   "outputs": [
    {
     "data": {
      "text/plain": [
       "'disini'"
      ]
     },
     "execution_count": 7,
     "metadata": {},
     "output_type": "execute_result"
    }
   ],
   "source": [
    "user = { \n",
    "    \"rizki\" : {\n",
    "        \"uname\": \"rizkidotme\",\n",
    "        \"fistname\": 'Muhammad',\n",
    "        \"lastname\": 'Rizkillah', \n",
    "    },\n",
    "    'dzaki' : {\n",
    "        'uname': ['dzaki', 'Muhammad', {\n",
    "            'nama': 'Muhammad',\n",
    "            \"belakang\": ['kenapa', 'bisa', 'nested','disini']\n",
    "        }\n",
    "        ],\n",
    "        'fistname': \"Dzaki\", \n",
    "        'lastname': \"mubarrak\"\n",
    "    }\n",
    "}\n",
    "\n",
    "user['dzaki']['uname'][2]['belakang'][3]\n",
    "    "
   ]
  },
  {
   "cell_type": "code",
   "execution_count": 9,
   "metadata": {},
   "outputs": [
    {
     "name": "stdout",
     "output_type": "stream",
     "text": [
      "['dog', 'cat', 'dog', 'goldfish', 'cat', 'rabbit', 'cat']\n",
      "['dog', 'dog', 'goldfish', 'rabbit']\n"
     ]
    }
   ],
   "source": [
    "pets = ['dog', 'cat', 'dog', 'goldfish', 'cat', 'rabbit', 'cat']\n",
    "print(pets)\n",
    "while 'cat' in pets: \n",
    "    pets.remove('cat')\n",
    "print(pets)\n"
   ]
  },
  {
   "cell_type": "code",
   "execution_count": 13,
   "metadata": {},
   "outputs": [
    {
     "name": "stdout",
     "output_type": "stream",
     "text": [
      "\n",
      "----- Polling Result ----- \n",
      "rizki ingin mendaki gunung everest\n",
      "dzaki  ingin mendaki gunung everest\n",
      "kevin ingin mendaki gunung everest\n"
     ]
    }
   ],
   "source": [
    "response = {}\n",
    "pol_active = True \n",
    "\n",
    "while pol_active: \n",
    "    name = input('what is yourname')\n",
    "    respon = input('gunung apa yang kamu mau daki suatu hari nanti?')\n",
    "    response[name] = respon \n",
    "\n",
    "    repeat = input(\"apakah kamu mau poling in berlanjut? (yes/no)\")\n",
    "\n",
    "    if repeat == 'no': \n",
    "        pol_active = False \n",
    "    \n",
    "print('\\n----- Polling Result ----- ')\n",
    "for name, res in response.items():\n",
    "    print(f\"{name} ingin mendaki gunung {respon}\")\n"
   ]
  }
 ],
 "metadata": {
  "kernelspec": {
   "display_name": "Python 3.10.4 64-bit",
   "language": "python",
   "name": "python3"
  },
  "language_info": {
   "codemirror_mode": {
    "name": "ipython",
    "version": 3
   },
   "file_extension": ".py",
   "mimetype": "text/x-python",
   "name": "python",
   "nbconvert_exporter": "python",
   "pygments_lexer": "ipython3",
   "version": "3.10.4"
  },
  "orig_nbformat": 4,
  "vscode": {
   "interpreter": {
    "hash": "3ad933181bd8a04b432d3370b9dc3b0662ad032c4dfaa4e4f1596c548f763858"
   }
  }
 },
 "nbformat": 4,
 "nbformat_minor": 2
}
