{
 "cells": [
  {
   "cell_type": "code",
   "execution_count": 1,
   "metadata": {},
   "outputs": [
    {
     "name": "stdout",
     "output_type": "stream",
     "text": [
      "hello world\n"
     ]
    }
   ],
   "source": [
    "print(\"hello world\")"
   ]
  },
  {
   "cell_type": "markdown",
   "metadata": {},
   "source": [
    "## Setting Up Your Programming Environment\n",
    "\n",
    "Python pada Sistem Operasi berbeda memiliki cara instalasi yang berbeda pula. Untuk menginstall Python pada sistem operasi Windows, Anda dapat mengunduh Python pada situs resminya. Untuk menginstall Python pada sistem operasi Linux, Anda dapat menginstall Python dengan menggunakan perintah berikut pada terminal Anda:\n",
    "\n",
    "```bash\n",
    "sudo apt-get install python3\n",
    "```\n",
    "buku ini akan menggunakan versi Python 3.9 ke atas. \n"
   ]
  }
 ],
 "metadata": {
  "kernelspec": {
   "display_name": "Python 3.10.4 64-bit",
   "language": "python",
   "name": "python3"
  },
  "language_info": {
   "codemirror_mode": {
    "name": "ipython",
    "version": 3
   },
   "file_extension": ".py",
   "mimetype": "text/x-python",
   "name": "python",
   "nbconvert_exporter": "python",
   "pygments_lexer": "ipython3",
   "version": "3.10.4"
  },
  "orig_nbformat": 4,
  "vscode": {
   "interpreter": {
    "hash": "3ad933181bd8a04b432d3370b9dc3b0662ad032c4dfaa4e4f1596c548f763858"
   }
  }
 },
 "nbformat": 4,
 "nbformat_minor": 2
}
