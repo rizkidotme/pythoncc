{
 "cells": [
  {
   "cell_type": "code",
   "execution_count": null,
   "metadata": {},
   "outputs": [],
   "source": [
    "from importlib.resources import contents\n",
    "from pathlib import Path\n",
    "\n",
    "path = Path('/workspaces/pythoncc/python/id.py')\n",
    "content = path.read_text().rstrip()\n",
    "print(content)"
   ]
  },
  {
   "cell_type": "code",
   "execution_count": 12,
   "metadata": {},
   "outputs": [
    {
     "data": {
      "text/plain": [
       "'3.141592653589793238462643383279'"
      ]
     },
     "execution_count": 12,
     "metadata": {},
     "output_type": "execute_result"
    }
   ],
   "source": [
    "arah = Path(\"pi.txt\")\n",
    "isi = arah.read_text()\n",
    "pi_string = ''\n",
    "lines = isi.splitlines()\n",
    "for line in lines: \n",
    "    pi_string += line.lstrip()\n",
    "pi_string"
   ]
  },
  {
   "cell_type": "code",
   "execution_count": 13,
   "metadata": {},
   "outputs": [
    {
     "data": {
      "text/plain": [
       "3.141592653589793"
      ]
     },
     "execution_count": 13,
     "metadata": {},
     "output_type": "execute_result"
    }
   ],
   "source": [
    "# get one million digit of pi \n",
    "import math \n",
    "\n",
    "def get_pi():\n",
    "    return math.pi\n",
    "get_pi()"
   ]
  },
  {
   "cell_type": "code",
   "execution_count": null,
   "metadata": {},
   "outputs": [],
   "source": [
    "!wget http://www.eveandersson.com/pi/digits/1000000"
   ]
  },
  {
   "cell_type": "code",
   "execution_count": null,
   "metadata": {},
   "outputs": [],
   "source": [
    "file = Path(\"millionpi.txt\")\n",
    "file = file.read_text()\n",
    "lines = file.splitlines()\n",
    "pi_string = ''\n",
    "for line in lines:\n",
    "    pi_string += line.lstrip()\n",
    "pi_string"
   ]
  },
  {
   "cell_type": "code",
   "execution_count": 26,
   "metadata": {},
   "outputs": [
    {
     "name": "stdout",
     "output_type": "stream",
     "text": [
      "your birthday is 17382 digits away from the beginning of pi\n"
     ]
    }
   ],
   "source": [
    "ulangtahun = input(\"enter your birthday, in the form mmddyy: \")\n",
    "# find the index of the birthday in pi_string\n",
    "if ulangtahun in pi_string:\n",
    "    # exacly how many digits away from the beginning of pi is your birthday?\n",
    "    index = pi_string.index(ulangtahun)\n",
    "\n",
    "    print(f\"your birthday is {index} digits away from the beginning of pi\")"
   ]
  },
  {
   "cell_type": "code",
   "execution_count": 22,
   "metadata": {},
   "outputs": [
    {
     "data": {
      "text/plain": [
       "18"
      ]
     },
     "execution_count": 22,
     "metadata": {},
     "output_type": "execute_result"
    }
   ],
   "source": [
    "path1 = Path(\"programming.txt\")\n",
    "path1.write_text(\"I love programming\")"
   ]
  }
 ],
 "metadata": {
  "kernelspec": {
   "display_name": "Python 3.10.4 64-bit",
   "language": "python",
   "name": "python3"
  },
  "language_info": {
   "codemirror_mode": {
    "name": "ipython",
    "version": 3
   },
   "file_extension": ".py",
   "mimetype": "text/x-python",
   "name": "python",
   "nbconvert_exporter": "python",
   "pygments_lexer": "ipython3",
   "version": "3.10.4"
  },
  "orig_nbformat": 4,
  "vscode": {
   "interpreter": {
    "hash": "3ad933181bd8a04b432d3370b9dc3b0662ad032c4dfaa4e4f1596c548f763858"
   }
  }
 },
 "nbformat": 4,
 "nbformat_minor": 2
}
